{
 "cells": [
  {
   "cell_type": "markdown",
   "metadata": {},
   "source": [
    "# Week 3 on Python fundamentals\n",
    "## Topics include:\n",
    "* Custom functions, with optional named parameters, default values\n",
    "* Lambda functions intro (show using for custom sort)\n",
    "* Docstrings in functions\n",
    "* Optional Type-checking "
   ]
  },
  {
   "cell_type": "markdown",
   "metadata": {},
   "source": [
    "## Custom Functions\n",
    "Defining new functions in Python is generally straightforward.  \n",
    "\n",
    "Parameters must be defined, but because of dynamic typing, we aren't *required* to define data types.  But as we'll see, there are some advantages and multiple ways to do so."
   ]
  },
  {
   "cell_type": "code",
   "execution_count": 1,
   "metadata": {
    "collapsed": true
   },
   "outputs": [],
   "source": [
    "def print_multiple_times(string, number_of_reps):\n",
    "    for i in range(number_of_reps):\n",
    "        print(string)"
   ]
  },
  {
   "cell_type": "code",
   "execution_count": 2,
   "metadata": {},
   "outputs": [
    {
     "name": "stdout",
     "output_type": "stream",
     "text": [
      "abcdefg\n",
      "abcdefg\n",
      "abcdefg\n",
      "Welcome!\n",
      "Welcome!\n"
     ]
    }
   ],
   "source": [
    "print_multiple_times('abcdefg', 3)\n",
    "print_multiple_times('Welcome!', 2)"
   ]
  },
  {
   "cell_type": "markdown",
   "metadata": {},
   "source": [
    "In the previous example, which works reasonably, notice that we have 2 REQUIRED parameters, and there's no explicit *return* keyword, so the function always returns *None*.\n",
    "\n",
    "But there are some things we can easily do to improve this simple function's re-usability and clarity.  For example, suppose that after using it a while for some things, we discover that we most-often use it to print something twice.  So we decide to make the *number_of_reps* optional, with a default value of 2, and *refactor* by creating a new function name as a convenient wrapper.  Why did I use return here?  And why did I call the other function instead of just copying its innards?"
   ]
  },
  {
   "cell_type": "code",
   "execution_count": 3,
   "metadata": {
    "collapsed": true
   },
   "outputs": [],
   "source": [
    "def print_again(string, number_of_reps=2):\n",
    "    return print_multiple_times(string, number_of_reps)"
   ]
  },
  {
   "cell_type": "code",
   "execution_count": 4,
   "metadata": {},
   "outputs": [
    {
     "name": "stdout",
     "output_type": "stream",
     "text": [
      "Hurray!\n",
      "Hurray!\n"
     ]
    }
   ],
   "source": [
    "print_again('Hurray!')"
   ]
  },
  {
   "cell_type": "markdown",
   "metadata": {},
   "source": [
    "# Docstrings\n",
    "Next, our co-workers who have been trying to use functions we wrote in his own programs, complain that there's no documentation on the API like he finds with the standard library functions.  We can fix that easily by adding Docstrings to our functions, modules, and classes.  PyCharm will even automatically create the format for us.  You'll also want to work in PyCharm instead of Jupyter Notebooks to fully benefit from autocompletion and inline documentation."
   ]
  },
  {
   "cell_type": "code",
   "execution_count": 5,
   "metadata": {
    "collapsed": true
   },
   "outputs": [],
   "source": [
    "def print_again(string, number_of_reps=2):\n",
    "    \"\"\"Prints a given string, the specified number of times.\n",
    "    \n",
    "    :param string: The string to print\n",
    "    :param number_of_reps: How many times to print the string (default=2)\n",
    "    :returns: None\n",
    "    \"\"\"\n",
    "    for i in range(number_of_reps):\n",
    "        print(string)"
   ]
  },
  {
   "cell_type": "code",
   "execution_count": 6,
   "metadata": {},
   "outputs": [
    {
     "name": "stdout",
     "output_type": "stream",
     "text": [
      "Yeah,\n",
      "Yeah,\n",
      "Yeah,\n"
     ]
    }
   ],
   "source": [
    "print_again('Yeah,', 3)"
   ]
  },
  {
   "cell_type": "markdown",
   "metadata": {},
   "source": [
    "With the above function definition, PyCharm will assume that number_of_reps is supposed to be an integer and that the function should always return None.  But it doesn't actually know what data type the variable called \"string\" is.  As written, this function works fine when \"string\" is something else entirely. For example, let's see if it will work with a tuple of floats:"
   ]
  },
  {
   "cell_type": "code",
   "execution_count": 7,
   "metadata": {},
   "outputs": [
    {
     "name": "stdout",
     "output_type": "stream",
     "text": [
      "('Nevermore!', 'said the Raven.')\n",
      "('Nevermore!', 'said the Raven.')\n"
     ]
    }
   ],
   "source": [
    "print_again(('Nevermore!', 'said the Raven.'))"
   ]
  },
  {
   "cell_type": "markdown",
   "metadata": {},
   "source": [
    "It does work! Why?  Because we're passing the \"string\" variable through unmodified to the built-in print() function, and it can handle a wide variety of data types.\n",
    "\n",
    "# Type Annotations\n",
    "But suppose we want our function to be a lot more precise or cautious and only accept strings as the \"string\".  How can we do that in Python?  Let's try using an annotation to tell Python we expect a string there."
   ]
  },
  {
   "cell_type": "code",
   "execution_count": 8,
   "metadata": {},
   "outputs": [
    {
     "name": "stdout",
     "output_type": "stream",
     "text": [
      "('Nevermore!', 'said the Raven.')\n",
      "('Nevermore!', 'said the Raven.')\n"
     ]
    }
   ],
   "source": [
    "def print_string_again(string: str, number_of_reps=2):\n",
    "    \"\"\"Prints a given string, the specified number of times, and tries to make SURE it's a string.\n",
    "    \n",
    "    :param string: The string to print\n",
    "    :param number_of_reps: How many times to print the string (default=2)\n",
    "    :returns: None\n",
    "    \"\"\"\n",
    "    for i in range(number_of_reps):\n",
    "        print(string)\n",
    "        \n",
    "print_string_again(('Nevermore!', 'said the Raven.'))"
   ]
  },
  {
   "cell_type": "markdown",
   "metadata": {},
   "source": [
    "Well, clearly that type assertion didn't do what you might expect.  Unlike Java or C, it DOES NOT enforce the data type of the parameter!  So what good is annotation?  **Go back to PyCharm and try the popup documentation key and using autocomplete on that parameter to see.**\n",
    "\n",
    "# Type Checking\n",
    "Most of the time in Python we want the flexibility and low overhead of dynamic typing. Only if we **really** need to enforce it, we can do so explictly in several ways, such as this for example:"
   ]
  },
  {
   "cell_type": "code",
   "execution_count": 9,
   "metadata": {},
   "outputs": [
    {
     "name": "stdout",
     "output_type": "stream",
     "text": [
      "Okay\n",
      "Okay\n",
      "Okay\n",
      "Okay\n"
     ]
    },
    {
     "ename": "ValueError",
     "evalue": "parameter \"string\" must be a str.",
     "output_type": "error",
     "traceback": [
      "\u001b[0;31m---------------------------------------------------------------------------\u001b[0m",
      "\u001b[0;31mValueError\u001b[0m                                Traceback (most recent call last)",
      "\u001b[0;32m<ipython-input-9-0348b86a469e>\u001b[0m in \u001b[0;36m<module>\u001b[0;34m()\u001b[0m\n\u001b[1;32m     12\u001b[0m \u001b[0;34m\u001b[0m\u001b[0m\n\u001b[1;32m     13\u001b[0m \u001b[0mprint_string_again\u001b[0m\u001b[0;34m(\u001b[0m\u001b[0;34m'Okay'\u001b[0m\u001b[0;34m,\u001b[0m \u001b[0;36m4\u001b[0m\u001b[0;34m)\u001b[0m\u001b[0;34m\u001b[0m\u001b[0m\n\u001b[0;32m---> 14\u001b[0;31m \u001b[0mprint_string_again\u001b[0m\u001b[0;34m(\u001b[0m\u001b[0;34m(\u001b[0m\u001b[0;34m'Nevermore!'\u001b[0m\u001b[0;34m,\u001b[0m \u001b[0;34m'said the Raven.'\u001b[0m\u001b[0;34m)\u001b[0m\u001b[0;34m)\u001b[0m\u001b[0;34m\u001b[0m\u001b[0m\n\u001b[0m",
      "\u001b[0;32m<ipython-input-9-0348b86a469e>\u001b[0m in \u001b[0;36mprint_string_again\u001b[0;34m(string, number_of_reps)\u001b[0m\n\u001b[1;32m      7\u001b[0m     \"\"\"\n\u001b[1;32m      8\u001b[0m     \u001b[0;32mif\u001b[0m \u001b[0;32mnot\u001b[0m \u001b[0misinstance\u001b[0m\u001b[0;34m(\u001b[0m\u001b[0mstring\u001b[0m\u001b[0;34m,\u001b[0m \u001b[0mstr\u001b[0m\u001b[0;34m)\u001b[0m\u001b[0;34m:\u001b[0m  \u001b[0;31m# notice that str here is NOT in quotes. str is a symbol for the class itself.\u001b[0m\u001b[0;34m\u001b[0m\u001b[0m\n\u001b[0;32m----> 9\u001b[0;31m         \u001b[0;32mraise\u001b[0m \u001b[0mValueError\u001b[0m\u001b[0;34m(\u001b[0m\u001b[0;34m'parameter \"string\" must be a str.'\u001b[0m\u001b[0;34m)\u001b[0m\u001b[0;34m\u001b[0m\u001b[0m\n\u001b[0m\u001b[1;32m     10\u001b[0m     \u001b[0;32mfor\u001b[0m \u001b[0mi\u001b[0m \u001b[0;32min\u001b[0m \u001b[0mrange\u001b[0m\u001b[0;34m(\u001b[0m\u001b[0mnumber_of_reps\u001b[0m\u001b[0;34m)\u001b[0m\u001b[0;34m:\u001b[0m\u001b[0;34m\u001b[0m\u001b[0m\n\u001b[1;32m     11\u001b[0m         \u001b[0mprint\u001b[0m\u001b[0;34m(\u001b[0m\u001b[0mstring\u001b[0m\u001b[0;34m)\u001b[0m\u001b[0;34m\u001b[0m\u001b[0m\n",
      "\u001b[0;31mValueError\u001b[0m: parameter \"string\" must be a str."
     ]
    }
   ],
   "source": [
    "def print_string_again(string: str, number_of_reps=2):\n",
    "    \"\"\"Prints a given string, the specified number of times, and tries to make SURE it's a string.\n",
    "    \n",
    "    :param string: The string to print\n",
    "    :param number_of_reps: How many times to print the string (default=2)\n",
    "    :returns: None\n",
    "    \"\"\"\n",
    "    if not isinstance(string, str):  # notice that str here is NOT in quotes. str is a symbol for the class itself.\n",
    "        raise ValueError('parameter \"string\" must be a str.')\n",
    "    for i in range(number_of_reps):\n",
    "        print(string)\n",
    "        \n",
    "print_string_again('Okay', 4)\n",
    "print_string_again(('Nevermore!', 'said the Raven.'))"
   ]
  },
  {
   "cell_type": "code",
   "execution_count": null,
   "metadata": {
    "collapsed": true
   },
   "outputs": [],
   "source": []
  }
 ],
 "metadata": {
  "kernelspec": {
   "display_name": "Python 3",
   "language": "python",
   "name": "python3"
  },
  "language_info": {
   "codemirror_mode": {
    "name": "ipython",
    "version": 3
   },
   "file_extension": ".py",
   "mimetype": "text/x-python",
   "name": "python",
   "nbconvert_exporter": "python",
   "pygments_lexer": "ipython3",
   "version": "3.6.1"
  }
 },
 "nbformat": 4,
 "nbformat_minor": 2
}
