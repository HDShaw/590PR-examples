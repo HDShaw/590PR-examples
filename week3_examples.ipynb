{
 "cells": [
  {
   "cell_type": "markdown",
   "metadata": {},
   "source": [
    "# Week 3 on Python fundamentals\n",
    "## Topics include:\n",
    "* Custom functions, with optional named parameters, default values\n",
    "* Docstrings in functions\n",
    "* Annotations vs Forcing Type-checking \n",
    "* Lambda functions intro (show using for custom sort)"
   ]
  },
  {
   "cell_type": "markdown",
   "metadata": {},
   "source": [
    "## Custom Functions\n",
    "Defining new functions in Python is generally straightforward.  \n",
    "\n",
    "Parameters must be defined, but because of dynamic typing, we aren't *required* to define data types.  But as we'll see, there are some advantages and multiple ways to do so."
   ]
  },
  {
   "cell_type": "code",
   "execution_count": 1,
   "metadata": {
    "collapsed": true
   },
   "outputs": [],
   "source": [
    "def print_multiple_times(string, number_of_reps):\n",
    "    for i in range(number_of_reps):\n",
    "        print(string)"
   ]
  },
  {
   "cell_type": "code",
   "execution_count": 2,
   "metadata": {},
   "outputs": [
    {
     "name": "stdout",
     "output_type": "stream",
     "text": [
      "abcdefg\n",
      "abcdefg\n",
      "abcdefg\n",
      "Welcome!\n",
      "Welcome!\n"
     ]
    }
   ],
   "source": [
    "print_multiple_times('abcdefg', 3)\n",
    "print_multiple_times('Welcome!', 2)"
   ]
  },
  {
   "cell_type": "markdown",
   "metadata": {},
   "source": [
    "In the previous example, which works reasonably, notice that we have 2 REQUIRED parameters, and there's no explicit *return* keyword, so the function always returns *None*.\n",
    "\n",
    "But there are some things we can easily do to improve this simple function's re-usability and clarity.  For example, suppose that after using it a while for some things, we discover that we most-often use it to print something twice.  So we decide to make the *number_of_reps* optional, with a default value of 2, and *refactor* by creating a new function name as a convenient wrapper.  Why did I use return here?  And why did I call the other function instead of just copying its innards?"
   ]
  },
  {
   "cell_type": "code",
   "execution_count": 3,
   "metadata": {
    "collapsed": true
   },
   "outputs": [],
   "source": [
    "def print_again(string, number_of_reps=2):\n",
    "    return print_multiple_times(string, number_of_reps)"
   ]
  },
  {
   "cell_type": "code",
   "execution_count": 4,
   "metadata": {},
   "outputs": [
    {
     "name": "stdout",
     "output_type": "stream",
     "text": [
      "Hurray!\n",
      "Hurray!\n"
     ]
    }
   ],
   "source": [
    "print_again('Hurray!')"
   ]
  },
  {
   "cell_type": "markdown",
   "metadata": {},
   "source": [
    "# Docstrings\n",
    "Next, our co-workers who have been trying to use functions we wrote in his own programs, complain that there's no documentation on the API like he finds with the standard library functions.  We can fix that easily by adding Docstrings to our functions, modules, and classes.  PyCharm will even automatically create the format for us.  You'll also want to work in PyCharm instead of Jupyter Notebooks to fully benefit from autocompletion and inline documentation."
   ]
  },
  {
   "cell_type": "code",
   "execution_count": 5,
   "metadata": {
    "collapsed": true
   },
   "outputs": [],
   "source": [
    "def print_again(string, number_of_reps=2):\n",
    "    \"\"\"Prints a given string, the specified number of times.\n",
    "    \n",
    "    :param string: The string to print\n",
    "    :param number_of_reps: How many times to print the string (default=2)\n",
    "    :returns: None\n",
    "    \"\"\"\n",
    "    for i in range(number_of_reps):\n",
    "        print(string)"
   ]
  },
  {
   "cell_type": "code",
   "execution_count": 6,
   "metadata": {},
   "outputs": [
    {
     "name": "stdout",
     "output_type": "stream",
     "text": [
      "Yeah,\n",
      "Yeah,\n",
      "Yeah,\n"
     ]
    }
   ],
   "source": [
    "print_again('Yeah,', 3)"
   ]
  },
  {
   "cell_type": "markdown",
   "metadata": {},
   "source": [
    "With the above function definition, PyCharm will assume that number_of_reps is supposed to be an integer and that the function should always return None.  But it doesn't actually know what data type the variable called \"string\" is.  As written, this function works fine when \"string\" is something else entirely. For example, let's see if it will work with a tuple of floats:"
   ]
  },
  {
   "cell_type": "code",
   "execution_count": 7,
   "metadata": {},
   "outputs": [
    {
     "name": "stdout",
     "output_type": "stream",
     "text": [
      "('Nevermore!', 'said the Raven.')\n",
      "('Nevermore!', 'said the Raven.')\n"
     ]
    }
   ],
   "source": [
    "print_again(('Nevermore!', 'said the Raven.'))"
   ]
  },
  {
   "cell_type": "markdown",
   "metadata": {},
   "source": [
    "It does work! Why?  Because we're passing the \"string\" variable through unmodified to the built-in print() function, and it can handle a wide variety of data types.\n",
    "\n",
    "# Type Annotations\n",
    "But suppose we want our function to be a lot more precise or cautious and only accept strings as the \"string\".  How can we do that in Python?  Let's try using an annotation to tell Python we expect a string there."
   ]
  },
  {
   "cell_type": "code",
   "execution_count": 8,
   "metadata": {},
   "outputs": [
    {
     "name": "stdout",
     "output_type": "stream",
     "text": [
      "('Nevermore!', 'said the Raven.')\n",
      "('Nevermore!', 'said the Raven.')\n"
     ]
    }
   ],
   "source": [
    "def print_string_again(string: str, number_of_reps=2):\n",
    "    \"\"\"Prints a given string, the specified number of times, and tries to make SURE it's a string.\n",
    "    \n",
    "    :param string: The string to print\n",
    "    :param number_of_reps: How many times to print the string (default=2)\n",
    "    :returns: None\n",
    "    \"\"\"\n",
    "    for i in range(number_of_reps):\n",
    "        print(string)\n",
    "        \n",
    "print_string_again(('Nevermore!', 'said the Raven.'))"
   ]
  },
  {
   "cell_type": "markdown",
   "metadata": {},
   "source": [
    "Well, clearly that type assertion didn't do what you might expect.  Unlike Java or C, it DOES NOT enforce the data type of the parameter!  So what good is annotation?  **Go back to PyCharm and try the popup documentation key and using autocomplete on that parameter to see.**\n",
    "\n",
    "# Type Checking\n",
    "Most of the time in Python we want the flexibility and low overhead of dynamic typing. Only if we **really** need to enforce it, we can do so explictly in several ways, such as this for example:"
   ]
  },
  {
   "cell_type": "code",
   "execution_count": 9,
   "metadata": {},
   "outputs": [
    {
     "name": "stdout",
     "output_type": "stream",
     "text": [
      "Okay\n",
      "Okay\n",
      "Okay\n",
      "Okay\n"
     ]
    },
    {
     "ename": "ValueError",
     "evalue": "parameter \"string\" must be a str.",
     "output_type": "error",
     "traceback": [
      "\u001b[0;31m---------------------------------------------------------------------------\u001b[0m",
      "\u001b[0;31mValueError\u001b[0m                                Traceback (most recent call last)",
      "\u001b[0;32m<ipython-input-9-0348b86a469e>\u001b[0m in \u001b[0;36m<module>\u001b[0;34m()\u001b[0m\n\u001b[1;32m     12\u001b[0m \u001b[0;34m\u001b[0m\u001b[0m\n\u001b[1;32m     13\u001b[0m \u001b[0mprint_string_again\u001b[0m\u001b[0;34m(\u001b[0m\u001b[0;34m'Okay'\u001b[0m\u001b[0;34m,\u001b[0m \u001b[0;36m4\u001b[0m\u001b[0;34m)\u001b[0m\u001b[0;34m\u001b[0m\u001b[0m\n\u001b[0;32m---> 14\u001b[0;31m \u001b[0mprint_string_again\u001b[0m\u001b[0;34m(\u001b[0m\u001b[0;34m(\u001b[0m\u001b[0;34m'Nevermore!'\u001b[0m\u001b[0;34m,\u001b[0m \u001b[0;34m'said the Raven.'\u001b[0m\u001b[0;34m)\u001b[0m\u001b[0;34m)\u001b[0m\u001b[0;34m\u001b[0m\u001b[0m\n\u001b[0m",
      "\u001b[0;32m<ipython-input-9-0348b86a469e>\u001b[0m in \u001b[0;36mprint_string_again\u001b[0;34m(string, number_of_reps)\u001b[0m\n\u001b[1;32m      7\u001b[0m     \"\"\"\n\u001b[1;32m      8\u001b[0m     \u001b[0;32mif\u001b[0m \u001b[0;32mnot\u001b[0m \u001b[0misinstance\u001b[0m\u001b[0;34m(\u001b[0m\u001b[0mstring\u001b[0m\u001b[0;34m,\u001b[0m \u001b[0mstr\u001b[0m\u001b[0;34m)\u001b[0m\u001b[0;34m:\u001b[0m  \u001b[0;31m# notice that str here is NOT in quotes. str is a symbol for the class itself.\u001b[0m\u001b[0;34m\u001b[0m\u001b[0m\n\u001b[0;32m----> 9\u001b[0;31m         \u001b[0;32mraise\u001b[0m \u001b[0mValueError\u001b[0m\u001b[0;34m(\u001b[0m\u001b[0;34m'parameter \"string\" must be a str.'\u001b[0m\u001b[0;34m)\u001b[0m\u001b[0;34m\u001b[0m\u001b[0m\n\u001b[0m\u001b[1;32m     10\u001b[0m     \u001b[0;32mfor\u001b[0m \u001b[0mi\u001b[0m \u001b[0;32min\u001b[0m \u001b[0mrange\u001b[0m\u001b[0;34m(\u001b[0m\u001b[0mnumber_of_reps\u001b[0m\u001b[0;34m)\u001b[0m\u001b[0;34m:\u001b[0m\u001b[0;34m\u001b[0m\u001b[0m\n\u001b[1;32m     11\u001b[0m         \u001b[0mprint\u001b[0m\u001b[0;34m(\u001b[0m\u001b[0mstring\u001b[0m\u001b[0;34m)\u001b[0m\u001b[0;34m\u001b[0m\u001b[0m\n",
      "\u001b[0;31mValueError\u001b[0m: parameter \"string\" must be a str."
     ]
    }
   ],
   "source": [
    "def print_string_again(string: str, number_of_reps=2):\n",
    "    \"\"\"Prints a given string, the specified number of times, and tries to make SURE it's a string.\n",
    "    \n",
    "    :param string: The string to print\n",
    "    :param number_of_reps: How many times to print the string (default=2)\n",
    "    :returns: None\n",
    "    \"\"\"\n",
    "    if not isinstance(string, str):  # notice that str here is NOT in quotes. str is a symbol for the class itself.\n",
    "        raise ValueError('parameter \"string\" must be a str.')\n",
    "    for i in range(number_of_reps):\n",
    "        print(string)\n",
    "        \n",
    "print_string_again('Okay', 4)\n",
    "print_string_again(('Nevermore!', 'said the Raven.'))"
   ]
  },
  {
   "cell_type": "markdown",
   "metadata": {
    "collapsed": true
   },
   "source": [
    "# Lambda functions\n",
    "For some people, Lambda functions seem a bizarre or too-abstract concept.  Hopefully I can help you grasp these...\n",
    "\n",
    "Generally, they are just a function that is used just once, so that we don't even feel like giving them a name. Thus you'll also see the phrase \"anonymous function\" used.  It's helpful to understand that you can always write equivalent code where the function does have a name.\n",
    "\n",
    "There are a few situations in Python where we occasionally want to use a temporary function, but the most likely place you'll see other coders do it is for customized sorting."
   ]
  },
  {
   "cell_type": "code",
   "execution_count": 10,
   "metadata": {},
   "outputs": [
    {
     "name": "stdout",
     "output_type": "stream",
     "text": [
      "[(1, 'Joe'), (2, 'James'), (3, 'Alberta'), (4, 'Francine'), (5, 'Smith'), (7, 'Charles')]\n"
     ]
    }
   ],
   "source": [
    "list_of_tuples = [(1, 'Joe'),\n",
    "                  (2, 'James'),\n",
    "                  (5, 'Smith'),\n",
    "                  (3, 'Alberta'),\n",
    "                  (4, 'Francine'),\n",
    "                  (7, 'Charles')]\n",
    "\n",
    "print(sorted(list_of_tuples))  # this produces the standard sort order"
   ]
  },
  {
   "cell_type": "markdown",
   "metadata": {},
   "source": [
    "Suppose we want to sort this structure by the *names* instead of the numbers. Notice the names are always in index position 1 instead of index zero.  The sorted() function lets us optionally provide a **function** as its *key=* parameter, and it will sort instead by whatever values the key function returns.  So we could implement it like this:"
   ]
  },
  {
   "cell_type": "code",
   "execution_count": 11,
   "metadata": {},
   "outputs": [
    {
     "data": {
      "text/plain": [
       "[(3, 'Alberta'),\n",
       " (7, 'Charles'),\n",
       " (4, 'Francine'),\n",
       " (2, 'James'),\n",
       " (1, 'Joe'),\n",
       " (5, 'Smith')]"
      ]
     },
     "execution_count": 11,
     "metadata": {},
     "output_type": "execute_result"
    }
   ],
   "source": [
    "def get_name_from_tuple(t: tuple) -> str:\n",
    "    return t[1]\n",
    "\n",
    "sorted(list_of_tuples, key=get_name_from_tuple)\n"
   ]
  },
  {
   "cell_type": "markdown",
   "metadata": {},
   "source": [
    "Once you untangle how that previous example is working, then you can see how the lambda expression is just a shortcut to the same idea:"
   ]
  },
  {
   "cell_type": "code",
   "execution_count": 12,
   "metadata": {},
   "outputs": [
    {
     "data": {
      "text/plain": [
       "[(3, 'Alberta'),\n",
       " (7, 'Charles'),\n",
       " (4, 'Francine'),\n",
       " (2, 'James'),\n",
       " (1, 'Joe'),\n",
       " (5, 'Smith')]"
      ]
     },
     "execution_count": 12,
     "metadata": {},
     "output_type": "execute_result"
    }
   ],
   "source": [
    "sorted(list_of_tuples, key=lambda t: t[1])"
   ]
  },
  {
   "cell_type": "code",
   "execution_count": 13,
   "metadata": {},
   "outputs": [
    {
     "data": {
      "text/plain": [
       "[[1, 'one', 'eins', 'uno'],\n",
       " [2, 'two', 'zwei', 'dos'],\n",
       " [3, 'three', 'drei', 'tres'],\n",
       " [4, 'four', 'vier', 'quatro'],\n",
       " [5, 'five', 'fünf', 'cinco'],\n",
       " [6, 'six', 'sechs', 'seis'],\n",
       " [7, 'seven', 'sieben', 'siete'],\n",
       " [8, 'eight', 'acht', 'ocho'],\n",
       " [9, 'nine', 'neun', 'nueve'],\n",
       " [10, 'ten', 'zehn', 'diez']]"
      ]
     },
     "execution_count": 13,
     "metadata": {},
     "output_type": "execute_result"
    }
   ],
   "source": [
    "# Numbers with their names in English, German, and Spanish:\n",
    "number_names = [[1, 'one',   'eins',   'uno'],\n",
    "                [2, 'two',   'zwei',   'dos'],\n",
    "                [3, 'three', 'drei',   'tres'],\n",
    "                [4, 'four',  'vier',   'quatro'],\n",
    "                [5, 'five',  'fünf',   'cinco'],\n",
    "                [6, 'six',   'sechs',  'seis'],\n",
    "                [7, 'seven', 'sieben', 'siete'],\n",
    "                [8, 'eight', 'acht',   'ocho'],\n",
    "                [9, 'nine',  'neun',   'nueve'],\n",
    "                [10, 'ten',  'zehn',   'diez']]\n",
    "\n",
    "sorted(number_names)"
   ]
  },
  {
   "cell_type": "markdown",
   "metadata": {},
   "source": [
    "If we want to sort these alphabetically by their English names, then like the previous example, we still want to use the item at index 1 as the key. "
   ]
  },
  {
   "cell_type": "code",
   "execution_count": 14,
   "metadata": {},
   "outputs": [
    {
     "data": {
      "text/plain": [
       "[[8, 'eight', 'acht', 'ocho'],\n",
       " [5, 'five', 'fünf', 'cinco'],\n",
       " [4, 'four', 'vier', 'quatro'],\n",
       " [9, 'nine', 'neun', 'nueve'],\n",
       " [1, 'one', 'eins', 'uno'],\n",
       " [7, 'seven', 'sieben', 'siete'],\n",
       " [6, 'six', 'sechs', 'seis'],\n",
       " [10, 'ten', 'zehn', 'diez'],\n",
       " [3, 'three', 'drei', 'tres'],\n",
       " [2, 'two', 'zwei', 'dos']]"
      ]
     },
     "execution_count": 14,
     "metadata": {},
     "output_type": "execute_result"
    }
   ],
   "source": [
    "sorted(number_names, key=lambda x: x[1])"
   ]
  },
  {
   "cell_type": "markdown",
   "metadata": {},
   "source": [
    "How do we sort this in German?  Or Spanish?"
   ]
  },
  {
   "cell_type": "code",
   "execution_count": null,
   "metadata": {
    "collapsed": true
   },
   "outputs": [],
   "source": []
  },
  {
   "cell_type": "markdown",
   "metadata": {},
   "source": [
    "# Another way to look at Lambda functions:"
   ]
  },
  {
   "cell_type": "code",
   "execution_count": 15,
   "metadata": {},
   "outputs": [
    {
     "name": "stdout",
     "output_type": "stream",
     "text": [
      "10\n",
      "80\n"
     ]
    }
   ],
   "source": [
    "double = lambda x: x * 2\n",
    "\n",
    "print(double(5))\n",
    "print(double(40))\n"
   ]
  },
  {
   "cell_type": "code",
   "execution_count": 16,
   "metadata": {},
   "outputs": [
    {
     "name": "stdout",
     "output_type": "stream",
     "text": [
      "10\n",
      "80\n"
     ]
    }
   ],
   "source": [
    "# That did the same thing as defining a \"double\" function normally like this:\n",
    "def double(x):\n",
    "    return x * 2\n",
    "\n",
    "print(double(5))\n",
    "print(double(40))"
   ]
  },
  {
   "cell_type": "markdown",
   "metadata": {},
   "source": [
    "# Functions are objects\n",
    "The above examples work only because functions are themselves objects, and we can use them (like any other objects) as function parameters or even return values.  "
   ]
  }
 ],
 "metadata": {
  "kernelspec": {
   "display_name": "Python 3",
   "language": "python",
   "name": "python3"
  },
  "language_info": {
   "codemirror_mode": {
    "name": "ipython",
    "version": 3
   },
   "file_extension": ".py",
   "mimetype": "text/x-python",
   "name": "python",
   "nbconvert_exporter": "python",
   "pygments_lexer": "ipython3",
   "version": "3.6.1"
  }
 },
 "nbformat": 4,
 "nbformat_minor": 2
}
