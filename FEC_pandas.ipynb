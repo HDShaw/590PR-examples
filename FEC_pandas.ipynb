{
 "cells": [
  {
   "cell_type": "markdown",
   "metadata": {},
   "source": [
    "# FEC Fed. Campaign Contributions\n",
    "\n",
    "Download a set of bulk data files from:\n",
    "http://classic.fec.gov/finance/disclosure/ftpdet.shtml\n",
    "\n",
    "Put them in a directory and unzip them to create the readable text data files."
   ]
  },
  {
   "cell_type": "code",
   "execution_count": null,
   "metadata": {
    "collapsed": true
   },
   "outputs": [],
   "source": [
    "import pandas as pd\n",
    "import numpy as np"
   ]
  },
  {
   "cell_type": "code",
   "execution_count": null,
   "metadata": {
    "collapsed": true
   },
   "outputs": [],
   "source": [
    "my_dir = './FEC/2018/'\n",
    "indiv_header_file = my_dir + 'indiv_header_file.csv'\n",
    "indiv_file = my_dir + 'itcont.txt' # individual donations\n",
    "\n",
    "ccl_header_file = my_dir + 'ccl_header_file.csv'\n",
    "ccl_file = my_dir + 'ccl.txt'  # candidate-to-committee linkage\n",
    "\n",
    "cn_header_file = my_dir + 'cn_header_file.csv'\n",
    "cn_file = my_dir + 'cn.txt'  # Federal candidates\n",
    "\n",
    "cm_header_file = my_dir + 'cm_header_file.csv'\n",
    "cm_file = my_dir + 'cm.txt'  # Committees (funds and PACs)"
   ]
  },
  {
   "cell_type": "code",
   "execution_count": null,
   "metadata": {},
   "outputs": [],
   "source": [
    "def get_columns(header_file) -> list:\n",
    "    with open(header_file, 'r') as hf:\n",
    "        top_line = hf.readline().strip()\n",
    "    return top_line.split(',')"
   ]
  },
  {
   "cell_type": "code",
   "execution_count": null,
   "metadata": {},
   "outputs": [],
   "source": [
    "# Read the Candidates file header:\n",
    "cn_cols = get_columns(cn_header_file)"
   ]
  },
  {
   "cell_type": "code",
   "execution_count": null,
   "metadata": {},
   "outputs": [],
   "source": [
    "cn_cols"
   ]
  },
  {
   "cell_type": "code",
   "execution_count": null,
   "metadata": {},
   "outputs": [],
   "source": [
    "# Read the Candidates file data:\n",
    "cn = pd.read_csv(cn_file, sep='|', index_col=0, names=cn_cols)"
   ]
  },
  {
   "cell_type": "code",
   "execution_count": null,
   "metadata": {},
   "outputs": [],
   "source": [
    "cn.head()"
   ]
  },
  {
   "cell_type": "markdown",
   "metadata": {},
   "source": [
    "## Minor cleanup needed, for NaN values and floats -> ints..."
   ]
  },
  {
   "cell_type": "code",
   "execution_count": null,
   "metadata": {},
   "outputs": [],
   "source": [
    "# Read the Committee header:\n",
    "cm_cols = get_columns(cm_header_file)\n",
    "# Read the Committee file data:\n",
    "cm = pd.read_csv(cm_file, sep='|', index_col=0, names=cm_cols)"
   ]
  },
  {
   "cell_type": "code",
   "execution_count": null,
   "metadata": {},
   "outputs": [],
   "source": [
    "cm.head()"
   ]
  },
  {
   "cell_type": "code",
   "execution_count": null,
   "metadata": {},
   "outputs": [],
   "source": [
    "# Select all committees that are Corporations:  ('C' or 'W')\n",
    "c = cm['ORG_TP'] == 'C'\n",
    "w = cm['ORG_TP'] == 'W'\n",
    "\n",
    "cm[c | w]"
   ]
  },
  {
   "cell_type": "code",
   "execution_count": null,
   "metadata": {},
   "outputs": [],
   "source": [
    "# Read the Individuals header:\n",
    "indiv_cols = get_columns(indiv_header_file)\n",
    "# Read the Committee file data:\n",
    "#  NOTE: The unique ID is the LAST column, not the first\n",
    "\n",
    "my_date_parser = lambda dates: [pd.datetime.strptime(d, '%d%m%Y') for d in dates]\n",
    "\n",
    "indiv = pd.read_csv(indiv_file, sep='|', index_col='SUB_ID', \n",
    "                    names=indiv_cols,\n",
    "                    usecols=['NAME','CITY','STATE','ZIP_CODE',\n",
    "                            'EMPLOYER','OCCUPATION',\n",
    "                            'TRANSACTION_DT','TRANSACTION_AMT',\n",
    "                            'CMTE_ID','ENTITY_TP','SUB_ID'],\n",
    "                    )"
   ]
  },
  {
   "cell_type": "code",
   "execution_count": null,
   "metadata": {},
   "outputs": [],
   "source": [
    "indiv.tail()"
   ]
  },
  {
   "cell_type": "code",
   "execution_count": null,
   "metadata": {},
   "outputs": [],
   "source": [
    "# How much memory (in bytes) does this huge DataFrame require?\n",
    "indiv.memory_usage(index=True).sum()"
   ]
  },
  {
   "cell_type": "markdown",
   "metadata": {},
   "source": [
    "# Some simple queries:"
   ]
  },
  {
   "cell_type": "markdown",
   "metadata": {},
   "source": [
    "### Find individual contributions from Champaign, IL:"
   ]
  },
  {
   "cell_type": "code",
   "execution_count": null,
   "metadata": {},
   "outputs": [],
   "source": [
    "champaign = indiv[(indiv['CITY'] == 'CHAMPAIGN') & (indiv['STATE'] == 'IL')]"
   ]
  },
  {
   "cell_type": "code",
   "execution_count": null,
   "metadata": {},
   "outputs": [],
   "source": [
    "champaign.count()"
   ]
  },
  {
   "cell_type": "code",
   "execution_count": null,
   "metadata": {},
   "outputs": [],
   "source": [
    "# Find all the unique donor names from Champaign, and alphabetize them:\n",
    "sorted(champaign['NAME'].unique())"
   ]
  },
  {
   "cell_type": "code",
   "execution_count": null,
   "metadata": {},
   "outputs": [],
   "source": [
    "champaign.head()"
   ]
  },
  {
   "cell_type": "code",
   "execution_count": null,
   "metadata": {},
   "outputs": [],
   "source": [
    "champaign.memory_usage(index=True).sum()"
   ]
  },
  {
   "cell_type": "code",
   "execution_count": null,
   "metadata": {},
   "outputs": [],
   "source": [
    "indiv.memory_usage(index=True).sum()"
   ]
  },
  {
   "cell_type": "markdown",
   "metadata": {},
   "source": [
    "## Let's expand a bit, to get all donations from Champaign, Urbana, and Savoy together:"
   ]
  },
  {
   "cell_type": "code",
   "execution_count": null,
   "metadata": {
    "collapsed": true
   },
   "outputs": [],
   "source": [
    "local = indiv[ ((indiv['CITY'] == 'CHAMPAIGN') |\n",
    "                (indiv['CITY'] == 'URBANA') |\n",
    "                (indiv['CITY'] == 'SAVOY') )\n",
    "             & (indiv['STATE'] == 'IL')]"
   ]
  },
  {
   "cell_type": "code",
   "execution_count": null,
   "metadata": {},
   "outputs": [],
   "source": [
    "# How many donations from EACH city?  Uses groupby()\n",
    "local.groupby(['CITY']).count()"
   ]
  },
  {
   "cell_type": "code",
   "execution_count": null,
   "metadata": {},
   "outputs": [],
   "source": [
    "# Total and average donations from EACH city?\n",
    "print(local.groupby(['CITY'])['TRANSACTION_AMT'].sum())\n",
    "print(local.groupby(['CITY'])['TRANSACTION_AMT'].mean())"
   ]
  },
  {
   "cell_type": "markdown",
   "metadata": {},
   "source": [
    "# Joining Related DataFrames \n",
    "For example, if we want to know to which these individual donations went, we must join the Committee file."
   ]
  },
  {
   "cell_type": "code",
   "execution_count": null,
   "metadata": {},
   "outputs": [],
   "source": [
    "indiv.head(2)"
   ]
  },
  {
   "cell_type": "code",
   "execution_count": null,
   "metadata": {},
   "outputs": [],
   "source": [
    "cm[(cm.index == 'C00629618') | (cm.index == 'C00177436')]"
   ]
  },
  {
   "cell_type": "code",
   "execution_count": null,
   "metadata": {
    "collapsed": true
   },
   "outputs": [],
   "source": [
    "# using the isin() method to match multiple rows without the messy booleans above\n",
    "cm[cm.index.isin(['C00629618','C00177436'])]"
   ]
  },
  {
   "cell_type": "code",
   "execution_count": null,
   "metadata": {
    "collapsed": true
   },
   "outputs": [],
   "source": [
    "# We can join these using the merge() function:\n",
    "pd.merge(indiv, cm, right_index=True, left_on='CMTE_ID').head()"
   ]
  },
  {
   "cell_type": "code",
   "execution_count": null,
   "metadata": {
    "scrolled": true
   },
   "outputs": [],
   "source": [
    "# Or the join() method\n",
    "indiv.join(cm, on='CMTE_ID').head()"
   ]
  },
  {
   "cell_type": "code",
   "execution_count": null,
   "metadata": {},
   "outputs": [],
   "source": [
    "champaign_plus_cm = champaign.join(cm, on='CMTE_ID')"
   ]
  },
  {
   "cell_type": "code",
   "execution_count": null,
   "metadata": {
    "collapsed": true
   },
   "outputs": [],
   "source": [
    "champaign_plus_cm[['NAME', 'EMPLOYER', 'OCCUPATION', 'TRANSACTION_AMT', 'CMTE_NM', 'CONNECTED_ORG_NM', 'CMTE_PTY_AFFILIATION']]"
   ]
  },
  {
   "cell_type": "code",
   "execution_count": null,
   "metadata": {
    "scrolled": true
   },
   "outputs": [],
   "source": [
    "uiuc = champaign_plus_cm[champaign_plus_cm['EMPLOYER'] == 'UNIVERSITY OF ILLINOIS']\n",
    "uiuc[['NAME', 'EMPLOYER', 'OCCUPATION', 'TRANSACTION_AMT', 'CMTE_NM', 'CONNECTED_ORG_NM', 'CMTE_PTY_AFFILIATION']]"
   ]
  },
  {
   "cell_type": "markdown",
   "metadata": {},
   "source": [
    "# Things to do:\n",
    "* Determine total individual donations PER STATE.\n",
    "* List the 100 individuals nationwide who gave the most total dollars (not # of transactions) and what the total was.\n",
    "* List Senators & Representatives and which Corporations and other PACs have \"bought\" them with huge donations.\n",
    "* \n",
    "* "
   ]
  },
  {
   "cell_type": "code",
   "execution_count": null,
   "metadata": {
    "collapsed": true
   },
   "outputs": [],
   "source": []
  }
 ],
 "metadata": {
  "kernelspec": {
   "display_name": "Python 3",
   "language": "python",
   "name": "python3"
  },
  "language_info": {
   "codemirror_mode": {
    "name": "ipython",
    "version": 3
   },
   "file_extension": ".py",
   "mimetype": "text/x-python",
   "name": "python",
   "nbconvert_exporter": "python",
   "pygments_lexer": "ipython3",
   "version": "3.6.1"
  }
 },
 "nbformat": 4,
 "nbformat_minor": 2
}
